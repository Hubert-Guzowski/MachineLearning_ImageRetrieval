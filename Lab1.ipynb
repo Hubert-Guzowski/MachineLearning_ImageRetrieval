{
 "cells": [
  {
   "cell_type": "code",
   "execution_count": null,
   "metadata": {},
   "outputs": [],
   "source": [
    "# from PIL import Image\n",
    "import numpy as np\n",
    "import tensorflow as tf\n",
    "from tensorflow.keras.models import Model, Sequential, load_model\n",
    "from tensorflow.keras.layers import Input, Convolution2D, Conv2D, MaxPool2D, ZeroPadding2D, MaxPooling2D, Flatten, Dense, Dropout, Activation\n",
    "from tensorflow.keras.preprocessing.image import load_img, save_img, img_to_array\n",
    "from tensorflow.keras.applications.imagenet_utils import preprocess_input\n",
    "from tensorflow.keras.preprocessing import image, image_dataset_from_directory\n",
    "import matplotlib.pyplot as plt"
   ]
  },
  {
   "cell_type": "code",
   "execution_count": null,
   "metadata": {},
   "outputs": [],
   "source": [
    "TRAIN_PATH = './data/DataSet_SEQUENCE_3' # 1 is for training\n",
    "TEST_PATH = './data/DataSet_SEQUENCE_2' # 1 is for training\n",
    "MODEL_PATH = './data/saved_model'\n",
    "IMAGE_DIM = (640, 480)\n",
    "BATCH = 10\n",
    "WORKERS = 10\n",
    "\n",
    "def directory_iterator(directory):\n",
    "    return image_dataset_from_directory(\n",
    "        directory,\n",
    "        image_size=IMAGE_DIM,\n",
    "        batch_size=BATCH,\n",
    "        labels='inferred',\n",
    "        label_mode='categorical'\n",
    "    )\n",
    "\n",
    "train_dataset = directory_iterator(TRAIN_PATH)\n",
    "test_dataset = directory_iterator(TEST_PATH)"
   ]
  },
  {
   "cell_type": "code",
   "execution_count": null,
   "metadata": {},
   "outputs": [],
   "source": [
    "train_dataset"
   ]
  },
  {
   "cell_type": "code",
   "execution_count": null,
   "metadata": {},
   "outputs": [],
   "source": [
    "INPUT_DIM = IMAGE_DIM + (3,)"
   ]
  },
  {
   "cell_type": "code",
   "execution_count": null,
   "metadata": {},
   "outputs": [],
   "source": [
    "# Simple CNN \n",
    "# (1): input_shape in 1st layer must match image dimension\n",
    "# (2): output in last layer must match one-hot representation of labels\n",
    "\n",
    "model= Sequential()\n",
    "model.add(Conv2D(kernel_size=(3,3), filters=32, activation='tanh', input_shape=INPUT_DIM))\n",
    "model.add(Conv2D(filters=30,kernel_size = (3,3),activation='tanh'))\n",
    "model.add(MaxPool2D(2,2))\n",
    "model.add(Conv2D(filters=30,kernel_size = (3,3),activation='tanh'))\n",
    "model.add(MaxPool2D(2,2))\n",
    "model.add(Conv2D(filters=30,kernel_size = (3,3),activation='tanh'))\n",
    "\n",
    "model.add(Flatten())\n",
    "\n",
    "model.add(Dense(20,activation='relu'))\n",
    "model.add(Dense(15,activation='relu'))\n",
    "model.add(Dense(9,activation = 'softmax'))"
   ]
  },
  {
   "cell_type": "code",
   "execution_count": null,
   "metadata": {},
   "outputs": [],
   "source": [
    "# # Build CNN\n",
    "# # VGG-16 clone, doesn't work because last layers have wrong dim\n",
    "\n",
    "# model = Sequential()\n",
    "# model.add(ZeroPadding2D((1,1),input_shape=INPUT_DIM))\n",
    "# model.add(Convolution2D(64, (3, 3), activation='relu'))\n",
    "# model.add(ZeroPadding2D((1,1)))\n",
    "# model.add(Convolution2D(64, (3, 3), activation='relu'))\n",
    "# model.add(MaxPooling2D((2,2), strides=(2,2)))\n",
    "\n",
    "# model.add(ZeroPadding2D((1,1)))\n",
    "# model.add(Convolution2D(128, (3, 3), activation='relu'))\n",
    "# model.add(ZeroPadding2D((1,1)))\n",
    "# model.add(Convolution2D(128, (3, 3), activation='relu'))\n",
    "# model.add(MaxPooling2D((2,2), strides=(2,2)))\n",
    "\n",
    "# model.add(ZeroPadding2D((1,1)))\n",
    "# model.add(Convolution2D(256, (3, 3), activation='relu'))\n",
    "# model.add(ZeroPadding2D((1,1)))\n",
    "# model.add(Convolution2D(256, (3, 3), activation='relu'))\n",
    "# model.add(ZeroPadding2D((1,1)))\n",
    "# model.add(Convolution2D(256, (3, 3), activation='relu'))\n",
    "# model.add(MaxPooling2D((2,2), strides=(2,2)))\n",
    "\n",
    "# model.add(ZeroPadding2D((1,1)))\n",
    "# model.add(Convolution2D(512, (3, 3), activation='relu'))\n",
    "# model.add(ZeroPadding2D((1,1)))\n",
    "# model.add(Convolution2D(512, (3, 3), activation='relu'))\n",
    "# model.add(ZeroPadding2D((1,1)))\n",
    "# model.add(Convolution2D(512, (3, 3), activation='relu'))\n",
    "# model.add(MaxPooling2D((2,2), strides=(2,2)))\n",
    "\n",
    "# model.add(ZeroPadding2D((1,1)))\n",
    "# model.add(Convolution2D(512, (3, 3), activation='relu'))\n",
    "# model.add(ZeroPadding2D((1,1)))\n",
    "# model.add(Convolution2D(512, (3, 3), activation='relu'))\n",
    "# model.add(ZeroPadding2D((1,1)))\n",
    "# model.add(Convolution2D(512, (3, 3), activation='relu'))\n",
    "# model.add(MaxPooling2D((2,2), strides=(2,2)))\n",
    "\n",
    "# model.add(Convolution2D(4096, (7, 7), activation='relu'))\n",
    "# model.add(Dropout(0.5))\n",
    "# model.add(Convolution2D(4096, (1, 1), activation='relu'))\n",
    "# model.add(Dropout(0.5))\n",
    "# model.add(Convolution2D(2622, (1, 1)))\n",
    "# model.add(Flatten())\n",
    "# model.add(Activation('softmax'))"
   ]
  },
  {
   "cell_type": "code",
   "execution_count": null,
   "metadata": {},
   "outputs": [],
   "source": [
    "model.compile(loss='categorical_crossentropy', optimizer='adam', metrics=['accuracy'])"
   ]
  },
  {
   "cell_type": "code",
   "execution_count": null,
   "metadata": {},
   "outputs": [],
   "source": [
    "model.summary()"
   ]
  },
  {
   "cell_type": "code",
   "execution_count": null,
   "metadata": {},
   "outputs": [],
   "source": [
    "model.fit(train_dataset, epochs=2, workers=WORKERS, use_multiprocessing=True)"
   ]
  },
  {
   "cell_type": "code",
   "execution_count": null,
   "metadata": {},
   "outputs": [],
   "source": [
    "import time\n",
    "CHECKPOINT_PATH = MODEL_PATH + '_' + str(int(time.time()))\n",
    "model.save(CHECKPOINT_PATH)"
   ]
  },
  {
   "cell_type": "code",
   "execution_count": null,
   "metadata": {},
   "outputs": [],
   "source": [
    "model = load_model(MODEL_PATH)"
   ]
  },
  {
   "cell_type": "code",
   "execution_count": null,
   "metadata": {},
   "outputs": [],
   "source": [
    "model.summary()"
   ]
  },
  {
   "cell_type": "code",
   "execution_count": null,
   "metadata": {},
   "outputs": [],
   "source": [
    "from tensorflow.compat.v1.metrics import average_precision_at_k"
   ]
  },
  {
   "cell_type": "code",
   "execution_count": null,
   "metadata": {},
   "outputs": [],
   "source": [
    "predictions = model.predict(test_dataset, workers=WORKERS, use_multiprocessing=True)\n",
    "predictions"
   ]
  },
  {
   "cell_type": "code",
   "execution_count": null,
   "metadata": {},
   "outputs": [],
   "source": [
    "predictions.shape"
   ]
  },
  {
   "cell_type": "code",
   "execution_count": null,
   "metadata": {},
   "outputs": [],
   "source": [
    "# TODO: compute mAP\n",
    "    \n",
    "# labels = None # test_dataset labels\n",
    "# N = predictions.shape[0] # test_dataset size"
   ]
  },
  {
   "cell_type": "code",
   "execution_count": null,
   "metadata": {},
   "outputs": [],
   "source": [
    "# ap_at_N = average_precision_at_k(labels=labels, predictions=predictions, k=N)\n",
    "# ap_at_N"
   ]
  }
 ],
 "metadata": {
  "kernelspec": {
   "display_name": "Python 3",
   "language": "python",
   "name": "python3"
  },
  "language_info": {
   "codemirror_mode": {
    "name": "ipython",
    "version": 3
   },
   "file_extension": ".py",
   "mimetype": "text/x-python",
   "name": "python",
   "nbconvert_exporter": "python",
   "pygments_lexer": "ipython3",
   "version": "3.8.3"
  }
 },
 "nbformat": 4,
 "nbformat_minor": 4
}
