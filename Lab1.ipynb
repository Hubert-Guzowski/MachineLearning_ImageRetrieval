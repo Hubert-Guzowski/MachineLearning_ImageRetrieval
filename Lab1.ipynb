{
 "cells": [
  {
   "cell_type": "code",
   "execution_count": 13,
   "metadata": {},
   "outputs": [
    {
     "ename": "ImportError",
     "evalue": "cannot import name 'image_dataset_from_directory' from 'keras.preprocessing' (/Users/filipkatulski/opt/anaconda3/lib/python3.7/site-packages/keras/preprocessing/__init__.py)",
     "output_type": "error",
     "traceback": [
      "\u001b[0;31m---------------------------------------------------------------------------\u001b[0m",
      "\u001b[0;31mImportError\u001b[0m                               Traceback (most recent call last)",
      "\u001b[0;32m<ipython-input-13-2fb4113ab924>\u001b[0m in \u001b[0;36m<module>\u001b[0;34m\u001b[0m\n\u001b[1;32m      6\u001b[0m \u001b[0;32mfrom\u001b[0m \u001b[0mkeras\u001b[0m\u001b[0;34m.\u001b[0m\u001b[0mpreprocessing\u001b[0m\u001b[0;34m.\u001b[0m\u001b[0mimage\u001b[0m \u001b[0;32mimport\u001b[0m \u001b[0mload_img\u001b[0m\u001b[0;34m,\u001b[0m \u001b[0msave_img\u001b[0m\u001b[0;34m,\u001b[0m \u001b[0mimg_to_array\u001b[0m\u001b[0;34m\u001b[0m\u001b[0;34m\u001b[0m\u001b[0m\n\u001b[1;32m      7\u001b[0m \u001b[0;32mfrom\u001b[0m \u001b[0mkeras\u001b[0m\u001b[0;34m.\u001b[0m\u001b[0mapplications\u001b[0m\u001b[0;34m.\u001b[0m\u001b[0mimagenet_utils\u001b[0m \u001b[0;32mimport\u001b[0m \u001b[0mpreprocess_input\u001b[0m\u001b[0;34m\u001b[0m\u001b[0;34m\u001b[0m\u001b[0m\n\u001b[0;32m----> 8\u001b[0;31m \u001b[0;32mfrom\u001b[0m \u001b[0mkeras\u001b[0m\u001b[0;34m.\u001b[0m\u001b[0mpreprocessing\u001b[0m \u001b[0;32mimport\u001b[0m \u001b[0mimage\u001b[0m\u001b[0;34m,\u001b[0m \u001b[0mimage_dataset_from_directory\u001b[0m\u001b[0;34m\u001b[0m\u001b[0;34m\u001b[0m\u001b[0m\n\u001b[0m\u001b[1;32m      9\u001b[0m \u001b[0;32mimport\u001b[0m \u001b[0mmatplotlib\u001b[0m\u001b[0;34m.\u001b[0m\u001b[0mpyplot\u001b[0m \u001b[0;32mas\u001b[0m \u001b[0mplt\u001b[0m\u001b[0;34m\u001b[0m\u001b[0;34m\u001b[0m\u001b[0m\n",
      "\u001b[0;31mImportError\u001b[0m: cannot import name 'image_dataset_from_directory' from 'keras.preprocessing' (/Users/filipkatulski/opt/anaconda3/lib/python3.7/site-packages/keras/preprocessing/__init__.py)"
     ]
    }
   ],
   "source": [
    "import tensorflow as tf\n",
    "from keras.models import Model, Sequential\n",
    "from keras.layers import Input, Convolution2D, ZeroPadding2D, MaxPooling2D, Flatten, Dense, Dropout, Activation\n",
    "from PIL import Image\n",
    "import numpy as np\n",
    "from keras.preprocessing.image import load_img, save_img, img_to_array\n",
    "from keras.applications.imagenet_utils import preprocess_input\n",
    "from keras.preprocessing import image, image_dataset_from_directory\n",
    "import matplotlib.pyplot as plt"
   ]
  },
  {
   "cell_type": "code",
   "execution_count": 10,
   "metadata": {},
   "outputs": [],
   "source": [
    "def preprocess_image(directory):\n",
    "    image_dataset_from_directory(directory, image_size=(640, 480))\n",
    "    return img"
   ]
  },
  {
   "cell_type": "code",
   "execution_count": 11,
   "metadata": {},
   "outputs": [
    {
     "ename": "NameError",
     "evalue": "name 'keras' is not defined",
     "output_type": "error",
     "traceback": [
      "\u001b[0;31m---------------------------------------------------------------------------\u001b[0m",
      "\u001b[0;31mNameError\u001b[0m                                 Traceback (most recent call last)",
      "\u001b[0;32m<ipython-input-11-6ae8fc315d85>\u001b[0m in \u001b[0;36m<module>\u001b[0;34m\u001b[0m\n\u001b[0;32m----> 1\u001b[0;31m \u001b[0mimg1\u001b[0m \u001b[0;34m=\u001b[0m \u001b[0mpreprocess_image\u001b[0m\u001b[0;34m(\u001b[0m\u001b[0;34m'/Users/filipkatulski/Documents/OneDrive/Studia/12 SEMESTR/ML/lab1/iros2021/DataSet_Nao_RAW/DataSet_SEQUENCE_1'\u001b[0m\u001b[0;34m)\u001b[0m\u001b[0;34m\u001b[0m\u001b[0;34m\u001b[0m\u001b[0m\n\u001b[0m",
      "\u001b[0;32m<ipython-input-10-9ba0b3b03268>\u001b[0m in \u001b[0;36mpreprocess_image\u001b[0;34m(directory)\u001b[0m\n\u001b[1;32m      1\u001b[0m \u001b[0;32mdef\u001b[0m \u001b[0mpreprocess_image\u001b[0m\u001b[0;34m(\u001b[0m\u001b[0mdirectory\u001b[0m\u001b[0;34m)\u001b[0m\u001b[0;34m:\u001b[0m\u001b[0;34m\u001b[0m\u001b[0;34m\u001b[0m\u001b[0m\n\u001b[0;32m----> 2\u001b[0;31m     \u001b[0mkeras\u001b[0m\u001b[0;34m.\u001b[0m\u001b[0mpreprocessing\u001b[0m\u001b[0;34m.\u001b[0m\u001b[0mimage_dataset_from_directory\u001b[0m\u001b[0;34m(\u001b[0m\u001b[0mdirectory\u001b[0m\u001b[0;34m,\u001b[0m \u001b[0mimage_size\u001b[0m\u001b[0;34m=\u001b[0m\u001b[0;34m(\u001b[0m\u001b[0;36m640\u001b[0m\u001b[0;34m,\u001b[0m \u001b[0;36m480\u001b[0m\u001b[0;34m)\u001b[0m\u001b[0;34m)\u001b[0m\u001b[0;34m\u001b[0m\u001b[0;34m\u001b[0m\u001b[0m\n\u001b[0m\u001b[1;32m      3\u001b[0m     \u001b[0;32mreturn\u001b[0m \u001b[0mimg\u001b[0m\u001b[0;34m\u001b[0m\u001b[0;34m\u001b[0m\u001b[0m\n",
      "\u001b[0;31mNameError\u001b[0m: name 'keras' is not defined"
     ]
    }
   ],
   "source": [
    "img1 = preprocess_image('/Users/filipkatulski/Documents/OneDrive/Studia/12 SEMESTR/ML/lab1/iros2021/DataSet_Nao_RAW/DataSet_SEQUENCE_1')"
   ]
  },
  {
   "cell_type": "code",
   "execution_count": 4,
   "metadata": {},
   "outputs": [
    {
     "data": {
      "text/plain": [
       "array([[[[ -30.939003,  -46.779   ,  -57.68    ],\n",
       "         [ -29.939003,  -43.779   ,  -60.68    ],\n",
       "         [ -30.939003,  -44.779   ,  -61.68    ],\n",
       "         ...,\n",
       "         [ -88.939   ,  -91.779   , -100.68    ],\n",
       "         [ -87.939   ,  -90.779   , -100.68    ],\n",
       "         [ -94.939   ,  -88.779   , -105.68    ]],\n",
       "\n",
       "        [[ -25.939003,  -42.779   ,  -58.68    ],\n",
       "         [ -25.939003,  -39.779   ,  -56.68    ],\n",
       "         [ -27.939003,  -40.779   ,  -60.68    ],\n",
       "         ...,\n",
       "         [ -78.939   ,  -91.779   ,  -98.68    ],\n",
       "         [ -86.939   ,  -89.779   ,  -98.68    ],\n",
       "         [ -95.939   ,  -87.779   , -104.68    ]],\n",
       "\n",
       "        [[ -25.939003,  -40.779   ,  -55.68    ],\n",
       "         [ -25.939003,  -40.779   ,  -55.68    ],\n",
       "         [ -25.939003,  -40.779   ,  -55.68    ],\n",
       "         ...,\n",
       "         [ -87.939   ,  -88.779   , -104.68    ],\n",
       "         [ -86.939   ,  -89.779   ,  -98.68    ],\n",
       "         [ -88.939   ,  -89.779   , -105.68    ]],\n",
       "\n",
       "        ...,\n",
       "\n",
       "        [[ -55.939003,  -59.779   ,  -72.68    ],\n",
       "         [ -50.939003,  -57.779   ,  -75.68    ],\n",
       "         [ -51.939003,  -58.779   ,  -76.68    ],\n",
       "         ...,\n",
       "         [ -61.939003,  -81.779   ,  -87.68    ],\n",
       "         [ -68.939   ,  -81.779   ,  -88.68    ],\n",
       "         [ -71.939   ,  -82.779   ,  -96.68    ]],\n",
       "\n",
       "        [[ -51.939003,  -64.779   ,  -71.68    ],\n",
       "         [ -50.939003,  -61.779   ,  -73.68    ],\n",
       "         [ -48.939003,  -59.779   ,  -71.68    ],\n",
       "         ...,\n",
       "         [ -71.939   ,  -84.779   ,  -91.68    ],\n",
       "         [ -72.939   ,  -85.779   ,  -92.68    ],\n",
       "         [ -71.939   ,  -84.779   ,  -91.68    ]],\n",
       "\n",
       "        [[ -50.939003,  -61.779   ,  -73.68    ],\n",
       "         [ -56.939003,  -60.779   ,  -73.68    ],\n",
       "         [ -49.939003,  -60.779   ,  -72.68    ],\n",
       "         ...,\n",
       "         [ -70.939   ,  -81.779   ,  -95.68    ],\n",
       "         [ -63.939003,  -83.779   ,  -96.68    ],\n",
       "         [ -71.939   ,  -82.779   ,  -96.68    ]]]], dtype=float32)"
      ]
     },
     "execution_count": 4,
     "metadata": {},
     "output_type": "execute_result"
    }
   ],
   "source": [
    "img1"
   ]
  },
  {
   "cell_type": "code",
   "execution_count": 5,
   "metadata": {},
   "outputs": [
    {
     "data": {
      "text/plain": [
       "(1, 224, 224, 3)"
      ]
     },
     "execution_count": 5,
     "metadata": {},
     "output_type": "execute_result"
    }
   ],
   "source": [
    "img1.shape"
   ]
  },
  {
   "cell_type": "code",
   "execution_count": null,
   "metadata": {},
   "outputs": [],
   "source": []
  }
 ],
 "metadata": {
  "kernelspec": {
   "display_name": "Python 3",
   "language": "python",
   "name": "python3"
  },
  "language_info": {
   "codemirror_mode": {
    "name": "ipython",
    "version": 3
   },
   "file_extension": ".py",
   "mimetype": "text/x-python",
   "name": "python",
   "nbconvert_exporter": "python",
   "pygments_lexer": "ipython3",
   "version": "3.7.7"
  }
 },
 "nbformat": 4,
 "nbformat_minor": 4
}
